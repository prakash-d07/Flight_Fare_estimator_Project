{
 "cells": [
  {
   "cell_type": "code",
   "execution_count": 44,
   "metadata": {},
   "outputs": [],
   "source": [
    "from dataclasses import dataclass\n",
    "from pathlib import Path\n",
    "import os"
   ]
  },
  {
   "cell_type": "code",
   "execution_count": 45,
   "metadata": {},
   "outputs": [
    {
     "data": {
      "text/plain": [
       "'G:\\\\Machine learning projects\\\\Flight_fare_prediction_'"
      ]
     },
     "execution_count": 45,
     "metadata": {},
     "output_type": "execute_result"
    }
   ],
   "source": [
    "%pwd"
   ]
  },
  {
   "cell_type": "code",
   "execution_count": 49,
   "metadata": {},
   "outputs": [],
   "source": [
    "\n",
    "os.chdir(r\"G:\\Machine learning projects\\Flight_fare_prediction_\")\n"
   ]
  },
  {
   "cell_type": "code",
   "execution_count": 50,
   "metadata": {},
   "outputs": [
    {
     "data": {
      "text/plain": [
       "'G:\\\\Machine learning projects\\\\Flight_fare_prediction_'"
      ]
     },
     "execution_count": 50,
     "metadata": {},
     "output_type": "execute_result"
    }
   ],
   "source": [
    "%pwd"
   ]
  },
  {
   "cell_type": "code",
   "execution_count": 22,
   "metadata": {},
   "outputs": [],
   "source": [
    "from dataclasses import dataclass\n",
    "from pathlib import Path\n",
    "\n",
    "\n",
    "@dataclass(frozen=True)\n",
    "class DatapreprocessConfig:\n",
    "    root_dir: Path\n",
    "    datapath: Path"
   ]
  },
  {
   "cell_type": "code",
   "execution_count": 23,
   "metadata": {},
   "outputs": [],
   "source": [
    "from Flight_Fare_estimator_Project.constants import *\n",
    "from Flight_Fare_estimator_Project.utils.common import read_yaml, create_directories"
   ]
  },
  {
   "cell_type": "code",
   "execution_count": 30,
   "metadata": {},
   "outputs": [],
   "source": [
    "class ConfigurationManager:\n",
    "    def __init__(\n",
    "        self,\n",
    "        config_filepath=CONFIG_FILE_PATH,\n",
    "        params_filepath=PARAMS_FILE_PATH,\n",
    "        schema_filepath=SCHEMA_FILE_PATH\n",
    "    ):\n",
    "        self.config = read_yaml(config_filepath)\n",
    "        self.params = read_yaml(params_filepath)\n",
    "        self.schema = read_yaml(schema_filepath)\n",
    "\n",
    "        create_directories([self.config.artifacts_root])\n",
    "\n",
    "    def get_datapreprocessing_config(self) -> DatapreprocessConfig:\n",
    "        config = self.config.data_preprocessing\n",
    "\n",
    "        create_directories([config.root_dir])\n",
    "\n",
    "        datapreprocess_config = DatapreprocessConfig(\n",
    "            root_dir=config.root_dir,\n",
    "            datapath=config.datapath\n",
    "        )\n",
    "\n",
    "        return datapreprocess_config\n"
   ]
  },
  {
   "cell_type": "code",
   "execution_count": null,
   "metadata": {},
   "outputs": [],
   "source": [
    "Data preprocessing components"
   ]
  },
  {
   "cell_type": "code",
   "execution_count": 1,
   "metadata": {},
   "outputs": [
    {
     "ename": "NameError",
     "evalue": "name 'ConfigurationManager' is not defined",
     "output_type": "error",
     "traceback": [
      "\u001b[1;31m---------------------------------------------------------------------------\u001b[0m",
      "\u001b[1;31mNameError\u001b[0m                                 Traceback (most recent call last)",
      "\u001b[1;32mg:\\Machine learning projects\\Flight_fare_prediction_\\research\\2.data_preprocessing.ipynb Cell 9\u001b[0m line \u001b[0;36m7\n\u001b[0;32m      <a href='vscode-notebook-cell:/g%3A/Machine%20learning%20projects/Flight_fare_prediction_/research/2.data_preprocessing.ipynb#X10sZmlsZQ%3D%3D?line=4'>5</a>\u001b[0m     data_preprocessing\u001b[39m.\u001b[39mload_data()\n\u001b[0;32m      <a href='vscode-notebook-cell:/g%3A/Machine%20learning%20projects/Flight_fare_prediction_/research/2.data_preprocessing.ipynb#X10sZmlsZQ%3D%3D?line=5'>6</a>\u001b[0m \u001b[39mexcept\u001b[39;00m \u001b[39mException\u001b[39;00m \u001b[39mas\u001b[39;00m e:\n\u001b[1;32m----> <a href='vscode-notebook-cell:/g%3A/Machine%20learning%20projects/Flight_fare_prediction_/research/2.data_preprocessing.ipynb#X10sZmlsZQ%3D%3D?line=6'>7</a>\u001b[0m     \u001b[39mraise\u001b[39;00m e\n",
      "\u001b[1;32mg:\\Machine learning projects\\Flight_fare_prediction_\\research\\2.data_preprocessing.ipynb Cell 9\u001b[0m line \u001b[0;36m2\n\u001b[0;32m      <a href='vscode-notebook-cell:/g%3A/Machine%20learning%20projects/Flight_fare_prediction_/research/2.data_preprocessing.ipynb#X10sZmlsZQ%3D%3D?line=0'>1</a>\u001b[0m \u001b[39mtry\u001b[39;00m:\n\u001b[1;32m----> <a href='vscode-notebook-cell:/g%3A/Machine%20learning%20projects/Flight_fare_prediction_/research/2.data_preprocessing.ipynb#X10sZmlsZQ%3D%3D?line=1'>2</a>\u001b[0m     config \u001b[39m=\u001b[39m ConfigurationManager()\n\u001b[0;32m      <a href='vscode-notebook-cell:/g%3A/Machine%20learning%20projects/Flight_fare_prediction_/research/2.data_preprocessing.ipynb#X10sZmlsZQ%3D%3D?line=2'>3</a>\u001b[0m     data_preprocessing_config \u001b[39m=\u001b[39m config\u001b[39m.\u001b[39mget_datapreprocessing_config()\n\u001b[0;32m      <a href='vscode-notebook-cell:/g%3A/Machine%20learning%20projects/Flight_fare_prediction_/research/2.data_preprocessing.ipynb#X10sZmlsZQ%3D%3D?line=3'>4</a>\u001b[0m     data_preprocessing\u001b[39m=\u001b[39m Datapreprocessing(config\u001b[39m=\u001b[39mdata_preprocessing_config)\n",
      "\u001b[1;31mNameError\u001b[0m: name 'ConfigurationManager' is not defined"
     ]
    }
   ],
   "source": [
    "try:\n",
    "    config = ConfigurationManager()\n",
    "    data_preprocessing_config = config.get_datapreprocessing_config()\n",
    "    data_preprocessing= Datapreprocessing(config=data_preprocessing_config)\n",
    "    data_preprocessing.load_data()\n",
    "except Exception as e:\n",
    "    raise e"
   ]
  },
  {
   "cell_type": "code",
   "execution_count": null,
   "metadata": {},
   "outputs": [],
   "source": []
  },
  {
   "cell_type": "code",
   "execution_count": null,
   "metadata": {},
   "outputs": [],
   "source": []
  },
  {
   "cell_type": "code",
   "execution_count": null,
   "metadata": {},
   "outputs": [],
   "source": []
  }
 ],
 "metadata": {
  "kernelspec": {
   "display_name": "Python 3",
   "language": "python",
   "name": "python3"
  },
  "language_info": {
   "codemirror_mode": {
    "name": "ipython",
    "version": 3
   },
   "file_extension": ".py",
   "mimetype": "text/x-python",
   "name": "python",
   "nbconvert_exporter": "python",
   "pygments_lexer": "ipython3",
   "version": "3.8.0"
  }
 },
 "nbformat": 4,
 "nbformat_minor": 2
}
