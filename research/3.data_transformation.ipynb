{
 "cells": [
  {
   "cell_type": "code",
   "execution_count": 9,
   "metadata": {},
   "outputs": [],
   "source": [
    "from dataclasses import dataclass\n",
    "from pathlib import Path\n",
    "import os"
   ]
  },
  {
   "cell_type": "code",
   "execution_count": 10,
   "metadata": {},
   "outputs": [
    {
     "data": {
      "text/plain": [
       "'/Users/saiprakashlikky/Desktop/Projects/ML_projects/Flight_Fare_estimator_Project'"
      ]
     },
     "execution_count": 10,
     "metadata": {},
     "output_type": "execute_result"
    }
   ],
   "source": [
    "%pwd"
   ]
  },
  {
   "cell_type": "code",
   "execution_count": 4,
   "metadata": {},
   "outputs": [],
   "source": [
    "os.chdir(\"../\")"
   ]
  },
  {
   "cell_type": "code",
   "execution_count": 5,
   "metadata": {},
   "outputs": [
    {
     "data": {
      "text/plain": [
       "'/Users/saiprakashlikky/Desktop/Projects/ML_projects/Flight_Fare_estimator_Project'"
      ]
     },
     "execution_count": 5,
     "metadata": {},
     "output_type": "execute_result"
    }
   ],
   "source": [
    "%pwd"
   ]
  },
  {
   "cell_type": "code",
   "execution_count": 11,
   "metadata": {},
   "outputs": [],
   "source": [
    "from dataclasses import dataclass\n",
    "from pathlib import Path\n",
    "\n",
    "\n",
    "@dataclass(frozen=True)\n",
    "class DataTransformationConfig:\n",
    "    root_dir: Path\n",
    "    datapath: Path"
   ]
  },
  {
   "cell_type": "code",
   "execution_count": 12,
   "metadata": {},
   "outputs": [],
   "source": [
    "from src.Flight_Fare_estimator_Project.constants import *\n",
    "from src.Flight_Fare_estimator_Project.utils.common import read_yaml, create_directories"
   ]
  },
  {
   "cell_type": "code",
   "execution_count": 75,
   "metadata": {},
   "outputs": [],
   "source": [
    "class ConfigurationManager:\n",
    "    def __init__(\n",
    "        self,\n",
    "        config_filepath=CONFIG_FILE_PATH,\n",
    "        params_filepath=PARAMS_FILE_PATH,\n",
    "        schema_filepath=SCHEMA_FILE_PATH,\n",
    "    ):\n",
    "        self.config = read_yaml(config_filepath)\n",
    "        self.params = read_yaml(params_filepath)\n",
    "        self.schema = read_yaml(schema_filepath)\n",
    "\n",
    "        create_directories([self.config.artifacts_root])\n",
    "\n",
    "    def get_transformation_config(self) -> DataTransformationConfig:\n",
    "        config = self.config.data_transformation\n",
    "\n",
    "        create_directories([config.root_dir])\n",
    "\n",
    "        datatransformation_config = DataTransformationConfig(\n",
    "            root_dir=config.root_dir,\n",
    "            datapath=config.datapath\n",
    "        )\n",
    "\n",
    "        return datatransformation_config\n"
   ]
  },
  {
   "cell_type": "code",
   "execution_count": 76,
   "metadata": {},
   "outputs": [],
   "source": [
    "import warnings\n",
    "import os\n",
    "import urllib.request as request\n",
    "import zipfile\n",
    "from src.Flight_Fare_estimator_Project import logger\n",
    "from src.Flight_Fare_estimator_Project.utils.common import get_size\n",
    "import pandas as pd"
   ]
  },
  {
   "cell_type": "code",
   "execution_count": 77,
   "metadata": {},
   "outputs": [],
   "source": [
    "import numpy as np \n",
    "import pickle\n",
    "import pandas as pd\n",
    "from sklearn.compose import ColumnTransformer\n",
    "from sklearn.impute import SimpleImputer\n",
    "from sklearn.pipeline import Pipeline\n",
    "from sklearn.preprocessing import OneHotEncoder,StandardScaler"
   ]
  },
  {
   "cell_type": "code",
   "execution_count": 78,
   "metadata": {},
   "outputs": [],
   "source": [
    "class DataTransformation:\n",
    "    def __init__(self, config):\n",
    "        self.config = config\n",
    "\n",
    "    def handle_missing_values(self):\n",
    "        \"\"\"\n",
    "        Method: handle_missing_values\n",
    "        Description: This method is used to handle missing values in Dataframe.\n",
    "        Parameters: None\n",
    "        Return: DataFrame after missing the dataset\n",
    "        Version: 1.0\n",
    "        \"\"\"\n",
    "        try:\n",
    "            logger.info(\"Loading the Preprocessed DataFrame\")\n",
    "            # Redirect warnings to the logging system\n",
    "            warnings.filterwarnings(\"ignore\", category=UserWarning, module=\"pandas\")\n",
    "            self.df = pd.read_csv(self.config.datapath)\n",
    "            logger.info(f\"Our Data frame consists \\n {self.df.isnull().sum()} so Here we can drop the na values \")\n",
    "            self.df.dropna(inplace=True)\n",
    "            logger.info(\"Dropped the nan values \")\n",
    "            logger.info(f\"Null values are handling na values is: {self.df.isnull().sum()}\")  # Log the shape\n",
    "            return self.df\n",
    "\n",
    "        except Exception as e:\n",
    "            raise e\n",
    "        \n",
    "    def outlier_treatment(self,df):\n",
    "        \"\"\"\n",
    "        Method: Handling Outliers\n",
    "        Description: This method is used to handle Outliers values in Dataframe.\n",
    "        Parameters: dataframe\n",
    "        Return: DataFrame after Handling outliers the dataset\n",
    "        Version: 1.0\n",
    "        \"\"\"\n",
    "        try:\n",
    "            logger.info(\"Calaculating IQR to eliminate outliers from Price variable\")\n",
    "            Q1 = df.Price.quantile(0.25)\n",
    "            Q3 = df.Price.quantile(0.75)\n",
    "            IQR = Q3 - Q1\n",
    "            logger.info(f\"IQR for the Outlier treatment Vaiable Price is {IQR}\")\n",
    "            lower_bridge_ = Q1 - (IQR * 3)\n",
    "            upper_bridge_ = Q3 + (IQR * 3)\n",
    "            df.loc[df['Price'] > upper_bridge_, 'Price']\n",
    "            logger.info(\"Handled the outliers of price variable\")\n",
    "            return df\n",
    "        except Exception as e:\n",
    "            raise e\n",
    "        \n",
    "\n",
    "    def feature_classification(self, df,file_path):\n",
    "        \"\"\"\n",
    "        Method: classifying Dependent and Independent variables\n",
    "        Description: This method is used to classify Dependent and Independent variables in Dataframe.\n",
    "        Parameters: dataframe\n",
    "        Return: dependent avraibles and Independent variables\n",
    "        Version: 1.0\n",
    "        \"\"\"\n",
    "        try:\n",
    "            logger.info(\"Classification of Independent and Dependent variable\")\n",
    "            x = df.drop(columns=['Price'], axis=1)\n",
    "            y = df['Price']\n",
    "            logger.info(f\"Dependent variables are {x.columns}, and Independent variables are {y.name}\")\n",
    "            return x, y\n",
    "        except Exception as e:\n",
    "            raise e\n",
    "\n",
    "\n",
    "\n",
    "    def save_to_csv(self, df,file_path):\n",
    "        \"\"\"\n",
    "        Method: save_to_csv\n",
    "        Description: This method is used to save the DataFrame to a CSV file.\n",
    "        Parameters:\n",
    "            - df: DataFrame\n",
    "            - file_path: Path to save the CSV file\n",
    "        Return: None\n",
    "        Version: 1.0\n",
    "        \"\"\"\n",
    "        try:\n",
    "            output_filepath = os.path.join(self.config.root_dir, file_path)\n",
    "            if not os.path.exists(output_filepath):\n",
    "                logger.info(f\"Saving DataFrame to CSV file: {output_filepath}\")\n",
    "                df.to_csv(output_filepath, index=False)\n",
    "                logger.info(\"DataFrame saved successfully.\")\n",
    "            else:\n",
    "                logger.warning(f\"CSV file already exists at {output_filepath}. Not saving.\")\n",
    "        except Exception as e:\n",
    "            raise e"
   ]
  },
  {
   "cell_type": "code",
   "execution_count": 79,
   "metadata": {},
   "outputs": [
    {
     "name": "stdout",
     "output_type": "stream",
     "text": [
      "[2023-11-27 23:36:26,341:INFO:common:yaml file: config/config.yaml loaded successfully]\n",
      "[2023-11-27 23:36:26,343:INFO:common:yaml file: params.yaml loaded successfully]\n",
      "[2023-11-27 23:36:26,344:INFO:common:yaml file: schema.yaml loaded successfully]\n",
      "[2023-11-27 23:36:26,344:INFO:common:created directory at: artifacts]\n",
      "[2023-11-27 23:36:26,345:INFO:common:created directory at: artifacts/data_transformation]\n",
      "[2023-11-27 23:36:26,345:INFO:2658766695:Loading the Preprocessed DataFrame]\n",
      "[2023-11-27 23:36:26,368:INFO:2658766695:Our Data frame consists \n",
      " Airline                      0\n",
      "Source                       0\n",
      "Destination                  0\n",
      "Total_Stops                  1\n",
      "Price                        0\n",
      "Month_of_Month_of_journey    0\n",
      "day_of_date_of_journey       0\n",
      "Duration_minutes             0\n",
      "dtype: int64 so Here we can drop the na values ]\n",
      "[2023-11-27 23:36:26,372:INFO:2658766695:Dropped the nan values ]\n",
      "[2023-11-27 23:36:26,374:INFO:2658766695:Null values are handling na values is: Airline                      0\n",
      "Source                       0\n",
      "Destination                  0\n",
      "Total_Stops                  0\n",
      "Price                        0\n",
      "Month_of_Month_of_journey    0\n",
      "day_of_date_of_journey       0\n",
      "Duration_minutes             0\n",
      "dtype: int64]\n",
      "[2023-11-27 23:36:26,375:INFO:2658766695:Calaculating IQR to eliminate outliers from Price variable]\n",
      "[2023-11-27 23:36:26,379:INFO:2658766695:IQR for the Outlier treatment Vaiable Price is 7096.0]\n",
      "[2023-11-27 23:36:26,379:INFO:2658766695:Handled the outliers of price variable]\n",
      "[2023-11-27 23:36:26,380:INFO:2658766695:Classification of Independent and Dependent variable]\n",
      "[2023-11-27 23:36:26,382:INFO:2658766695:Dependent variables are Index(['Airline', 'Source', 'Destination', 'Total_Stops',\n",
      "       'Month_of_Month_of_journey', 'day_of_date_of_journey',\n",
      "       'Duration_minutes'],\n",
      "      dtype='object'), and Independent variables are Price]\n",
      "[2023-11-27 23:36:26,382:INFO:2658766695:Saving DataFrame to CSV file: artifacts/data_transformation/x_output.csv]\n",
      "[2023-11-27 23:36:26,397:INFO:2658766695:DataFrame saved successfully.]\n",
      "[2023-11-27 23:36:26,398:INFO:2658766695:Saving DataFrame to CSV file: artifacts/data_transformation/y_output.csv]\n",
      "[2023-11-27 23:36:26,404:INFO:2658766695:DataFrame saved successfully.]\n"
     ]
    }
   ],
   "source": [
    "try:\n",
    "    config = ConfigurationManager()\n",
    "    data_transformation_config = config.get_transformation_config()\n",
    "    data_transformation = DataTransformation(config=data_transformation_config)\n",
    "    dataframe=data_transformation.handle_missing_values()\n",
    "    dataframe=data_transformation.outlier_treatment(dataframe)\n",
    "    x,y=data_transformation.feature_classification(dataframe,'target_feature.csv')\n",
    "    data_transformation.save_to_csv(x, 'x_output.csv')\n",
    "    data_transformation.save_to_csv(y, 'y_output.csv')         \n",
    "except Exception as e:\n",
    "    raise e\n"
   ]
  },
  {
   "cell_type": "code",
   "execution_count": null,
   "metadata": {},
   "outputs": [],
   "source": []
  }
 ],
 "metadata": {
  "kernelspec": {
   "display_name": "venv",
   "language": "python",
   "name": "python3"
  },
  "language_info": {
   "codemirror_mode": {
    "name": "ipython",
    "version": 3
   },
   "file_extension": ".py",
   "mimetype": "text/x-python",
   "name": "python",
   "nbconvert_exporter": "python",
   "pygments_lexer": "ipython3",
   "version": "3.8.18"
  }
 },
 "nbformat": 4,
 "nbformat_minor": 2
}
